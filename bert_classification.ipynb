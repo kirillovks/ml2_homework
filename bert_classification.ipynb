{
 "cells": [
  {
   "cell_type": "code",
   "execution_count": 43,
   "id": "ca8bf6a2-3b5f-448c-976d-aae263f6c7d0",
   "metadata": {
    "execution": {
     "iopub.execute_input": "2025-03-31T05:02:20.598415Z",
     "iopub.status.busy": "2025-03-31T05:02:20.596985Z",
     "iopub.status.idle": "2025-03-31T05:02:20.653763Z",
     "shell.execute_reply": "2025-03-31T05:02:20.652582Z",
     "shell.execute_reply.started": "2025-03-31T05:02:20.598379Z"
    },
    "tags": []
   },
   "outputs": [],
   "source": [
    "import numpy as np\n",
    "import pandas as pd\n",
    "import time\n",
    "import datetime\n",
    "import gc\n",
    "import random\n",
    "import torch\n",
    "import torch.nn as nn\n",
    "from torch.utils.data import TensorDataset, DataLoader, RandomSampler, SequentialSampler,random_split\n",
    "from sklearn.model_selection import train_test_split\n",
    "from sklearn.metrics import classification_report, f1_score\n",
    "\n",
    "from tqdm import tqdm\n",
    "from torch.optim import AdamW\n",
    "\n",
    "import transformers\n",
    "from transformers import BertForSequenceClassification, BertConfig, BertTokenizer, get_linear_schedule_with_warmup\n",
    "\n",
    "import warnings\n",
    "warnings.filterwarnings(\"ignore\")"
   ]
  },
  {
   "cell_type": "code",
   "execution_count": 2,
   "id": "dbd125cd-2df0-46e7-9e7c-d4c602438d0c",
   "metadata": {
    "execution": {
     "iopub.execute_input": "2025-03-31T03:24:58.573071Z",
     "iopub.status.busy": "2025-03-31T03:24:58.572135Z",
     "iopub.status.idle": "2025-03-31T03:24:59.039985Z",
     "shell.execute_reply": "2025-03-31T03:24:59.038714Z",
     "shell.execute_reply.started": "2025-03-31T03:24:58.573004Z"
    },
    "tags": []
   },
   "outputs": [],
   "source": [
    "# Load the BERT tokenizer\n",
    "tokenizer = BertTokenizer.from_pretrained('bert-base-uncased', do_lower_case=True)"
   ]
  },
  {
   "cell_type": "code",
   "execution_count": 3,
   "id": "ef6ee2f4-b762-4edb-949a-d04f84718d22",
   "metadata": {
    "execution": {
     "iopub.execute_input": "2025-03-31T03:24:59.042214Z",
     "iopub.status.busy": "2025-03-31T03:24:59.041518Z",
     "iopub.status.idle": "2025-03-31T03:25:00.536393Z",
     "shell.execute_reply": "2025-03-31T03:25:00.535258Z",
     "shell.execute_reply.started": "2025-03-31T03:24:59.042160Z"
    },
    "tags": []
   },
   "outputs": [],
   "source": [
    "data = pd.read_csv(\"preprocessed_data.csv\")"
   ]
  },
  {
   "cell_type": "code",
   "execution_count": 4,
   "id": "9a471316-7b62-4da0-877c-e60ac82eabdb",
   "metadata": {
    "execution": {
     "iopub.execute_input": "2025-03-31T03:25:00.540835Z",
     "iopub.status.busy": "2025-03-31T03:25:00.539562Z",
     "iopub.status.idle": "2025-03-31T03:25:00.632707Z",
     "shell.execute_reply": "2025-03-31T03:25:00.631504Z",
     "shell.execute_reply.started": "2025-03-31T03:25:00.540798Z"
    },
    "tags": []
   },
   "outputs": [
    {
     "data": {
      "text/html": [
       "<div>\n",
       "<style scoped>\n",
       "    .dataframe tbody tr th:only-of-type {\n",
       "        vertical-align: middle;\n",
       "    }\n",
       "\n",
       "    .dataframe tbody tr th {\n",
       "        vertical-align: top;\n",
       "    }\n",
       "\n",
       "    .dataframe thead th {\n",
       "        text-align: right;\n",
       "    }\n",
       "</style>\n",
       "<table border=\"1\" class=\"dataframe\">\n",
       "  <thead>\n",
       "    <tr style=\"text-align: right;\">\n",
       "      <th></th>\n",
       "      <th>title</th>\n",
       "      <th>text</th>\n",
       "      <th>class</th>\n",
       "    </tr>\n",
       "  </thead>\n",
       "  <tbody>\n",
       "    <tr>\n",
       "      <th>0</th>\n",
       "      <td>interpreting syntactic social element tweet re...</td>\n",
       "      <td>research social medium analysis experiencing r...</td>\n",
       "      <td>0</td>\n",
       "    </tr>\n",
       "    <tr>\n",
       "      <th>1</th>\n",
       "      <td>living together mind machine intelligence</td>\n",
       "      <td>paper consider nature machine intelligence cre...</td>\n",
       "      <td>0</td>\n",
       "    </tr>\n",
       "    <tr>\n",
       "      <th>2</th>\n",
       "      <td>stochastic local search pattern set mining</td>\n",
       "      <td>local search method quickly find good quality ...</td>\n",
       "      <td>0</td>\n",
       "    </tr>\n",
       "    <tr>\n",
       "      <th>3</th>\n",
       "      <td>sparse inverse covariance matrix estimation us...</td>\n",
       "      <td>l regularized gaussian maximum likelihood esti...</td>\n",
       "      <td>0</td>\n",
       "    </tr>\n",
       "    <tr>\n",
       "      <th>4</th>\n",
       "      <td>visual translation embedding network visual re...</td>\n",
       "      <td>visual relation person ride bike bike next car...</td>\n",
       "      <td>0</td>\n",
       "    </tr>\n",
       "  </tbody>\n",
       "</table>\n",
       "</div>"
      ],
      "text/plain": [
       "                                               title  ... class\n",
       "0  interpreting syntactic social element tweet re...  ...     0\n",
       "1          living together mind machine intelligence  ...     0\n",
       "2         stochastic local search pattern set mining  ...     0\n",
       "3  sparse inverse covariance matrix estimation us...  ...     0\n",
       "4  visual translation embedding network visual re...  ...     0\n",
       "\n",
       "[5 rows x 3 columns]"
      ]
     },
     "execution_count": 4,
     "metadata": {},
     "output_type": "execute_result"
    }
   ],
   "source": [
    "data.head()"
   ]
  },
  {
   "cell_type": "code",
   "execution_count": 5,
   "id": "21c9a5c7-1938-4caa-8da7-d9be45dfeba8",
   "metadata": {
    "execution": {
     "iopub.execute_input": "2025-03-31T03:25:00.634466Z",
     "iopub.status.busy": "2025-03-31T03:25:00.633887Z",
     "iopub.status.idle": "2025-03-31T03:25:00.677978Z",
     "shell.execute_reply": "2025-03-31T03:25:00.676629Z",
     "shell.execute_reply.started": "2025-03-31T03:25:00.634430Z"
    },
    "tags": []
   },
   "outputs": [],
   "source": [
    "texts = data.text.values\n",
    "labels = data['class'].values"
   ]
  },
  {
   "cell_type": "code",
   "execution_count": 6,
   "id": "d580b11d-7f8a-40b4-95bb-ab5889b5266d",
   "metadata": {
    "execution": {
     "iopub.execute_input": "2025-03-31T03:25:00.681406Z",
     "iopub.status.busy": "2025-03-31T03:25:00.679576Z",
     "iopub.status.idle": "2025-03-31T03:25:00.712044Z",
     "shell.execute_reply": "2025-03-31T03:25:00.710534Z",
     "shell.execute_reply.started": "2025-03-31T03:25:00.681341Z"
    },
    "tags": []
   },
   "outputs": [
    {
     "name": "stdout",
     "output_type": "stream",
     "text": [
      " Original:  research social medium analysis experiencing recent surge large number work applying representation learning model solve high level syntactico semantic task sentiment analysis semantic textual similarity computation hashtag prediction although performance representation learning model better traditional baseline task little known core property tweet encoded within representation understanding core property would empower u making generalizable conclusion quality representation work presented constitutes first step opening black box vector embedding social medium post emphasis tweet particular order understand core property encoded tweet representation evaluate representation estimate extent model property tweet length presence word hashtags mention capitalization done help multiple classifier take representation input essentially classifier evaluates one syntactic social property arguably salient tweet also first holistic study extensively analysing ability encode property wide variety tweet representation model including traditional unsupervised method bow lda unsupervised representation learning method siamese cbow tweet vec well supervised method cnn blstm\n",
      "Tokenized:  ['research', 'social', 'medium', 'analysis', 'experiencing', 'recent', 'surge', 'large', 'number', 'work', 'applying', 'representation', 'learning', 'model', 'solve', 'high', 'level', 'syn', '##ta', '##ctic', '##o', 'semantic', 'task', 'sentiment', 'analysis', 'semantic', 'textual', 'similarity', 'computation', 'hash', '##tag', 'prediction', 'although', 'performance', 'representation', 'learning', 'model', 'better', 'traditional', 'baseline', 'task', 'little', 'known', 'core', 'property', 't', '##wee', '##t', 'encoded', 'within', 'representation', 'understanding', 'core', 'property', 'would', 'em', '##power', 'u', 'making', 'general', '##iza', '##ble', 'conclusion', 'quality', 'representation', 'work', 'presented', 'constitutes', 'first', 'step', 'opening', 'black', 'box', 'vector', 'em', '##bed', '##ding', 'social', 'medium', 'post', 'emphasis', 't', '##wee', '##t', 'particular', 'order', 'understand', 'core', 'property', 'encoded', 't', '##wee', '##t', 'representation', 'evaluate', 'representation', 'estimate', 'extent', 'model', 'property', 't', '##wee', '##t', 'length', 'presence', 'word', 'hash', '##tag', '##s', 'mention', 'capital', '##ization', 'done', 'help', 'multiple', 'class', '##ifier', 'take', 'representation', 'input', 'essentially', 'class', '##ifier', 'evaluate', '##s', 'one', 'syn', '##ta', '##ctic', 'social', 'property', 'arguably', 'sal', '##ient', 't', '##wee', '##t', 'also', 'first', 'ho', '##listic', 'study', 'extensively', 'anal', '##ys', '##ing', 'ability', 'en', '##code', 'property', 'wide', 'variety', 't', '##wee', '##t', 'representation', 'model', 'including', 'traditional', 'un', '##su', '##per', '##vis', '##ed', 'method', 'bow', 'ld', '##a', 'un', '##su', '##per', '##vis', '##ed', 'representation', 'learning', 'method', 'siam', '##ese', 'cb', '##ow', 't', '##wee', '##t', 've', '##c', 'well', 'supervised', 'method', 'cnn', 'b', '##ls', '##tm']\n",
      "Token IDs:  [2470, 2591, 5396, 4106, 13417, 3522, 12058, 2312, 2193, 2147, 11243, 6630, 4083, 2944, 9611, 2152, 2504, 19962, 2696, 13306, 2080, 21641, 4708, 15792, 4106, 21641, 25304, 14402, 22334, 23325, 15900, 17547, 2348, 2836, 6630, 4083, 2944, 2488, 3151, 26163, 4708, 2210, 2124, 4563, 3200, 1056, 28394, 2102, 12359, 2306, 6630, 4824, 4563, 3200, 2052, 7861, 11452, 1057, 2437, 2236, 21335, 3468, 7091, 3737, 6630, 2147, 3591, 17367, 2034, 3357, 3098, 2304, 3482, 9207, 7861, 8270, 4667, 2591, 5396, 2695, 7902, 1056, 28394, 2102, 3327, 2344, 3305, 4563, 3200, 12359, 1056, 28394, 2102, 6630, 16157, 6630, 10197, 6698, 2944, 3200, 1056, 28394, 2102, 3091, 3739, 2773, 23325, 15900, 2015, 5254, 3007, 3989, 2589, 2393, 3674, 2465, 18095, 2202, 6630, 7953, 7687, 2465, 18095, 16157, 2015, 2028, 19962, 2696, 13306, 2591, 3200, 15835, 16183, 11638, 1056, 28394, 2102, 2036, 2034, 7570, 27348, 2817, 8077, 20302, 7274, 2075, 3754, 4372, 16044, 3200, 2898, 3528, 1056, 28394, 2102, 6630, 2944, 2164, 3151, 4895, 6342, 4842, 11365, 2098, 4118, 6812, 25510, 2050, 4895, 6342, 4842, 11365, 2098, 6630, 4083, 4118, 25583, 6810, 17324, 5004, 1056, 28394, 2102, 2310, 2278, 2092, 13588, 4118, 13229, 1038, 4877, 21246]\n"
     ]
    }
   ],
   "source": [
    "print(' Original: ', texts[0])\n",
    "\n",
    "# Print the sentence split into tokens.\n",
    "print('Tokenized: ', tokenizer.tokenize(texts[0]))\n",
    "\n",
    "# Print the sentence mapped to token ids.\n",
    "print('Token IDs: ', tokenizer.convert_tokens_to_ids(tokenizer.tokenize(texts[0])))"
   ]
  },
  {
   "cell_type": "code",
   "execution_count": 7,
   "id": "7962d973-57cb-4d01-9a2a-c2829afacf67",
   "metadata": {
    "execution": {
     "iopub.execute_input": "2025-03-31T03:25:00.714671Z",
     "iopub.status.busy": "2025-03-31T03:25:00.713623Z",
     "iopub.status.idle": "2025-03-31T03:27:19.563926Z",
     "shell.execute_reply": "2025-03-31T03:27:19.562634Z",
     "shell.execute_reply.started": "2025-03-31T03:25:00.714618Z"
    },
    "tags": []
   },
   "outputs": [
    {
     "name": "stdout",
     "output_type": "stream",
     "text": [
      "Max sentence length:  381\n"
     ]
    }
   ],
   "source": [
    "max_len = 0\n",
    "\n",
    "# For every sentence...\n",
    "for sent in texts:\n",
    "\n",
    "    # Tokenize the text and add `[CLS]` and `[SEP]` tokens.\n",
    "    input_ids = tokenizer.encode(sent, add_special_tokens=True)\n",
    "\n",
    "    # Update the maximum sentence length.\n",
    "    max_len = max(max_len, len(input_ids))\n",
    "\n",
    "print('Max sentence length: ', max_len)"
   ]
  },
  {
   "cell_type": "code",
   "execution_count": 8,
   "id": "7e0ce5bf-4cec-4f11-9dbc-79121665a84b",
   "metadata": {
    "execution": {
     "iopub.execute_input": "2025-03-31T03:27:19.567344Z",
     "iopub.status.busy": "2025-03-31T03:27:19.565556Z",
     "iopub.status.idle": "2025-03-31T03:30:00.114057Z",
     "shell.execute_reply": "2025-03-31T03:30:00.112750Z",
     "shell.execute_reply.started": "2025-03-31T03:27:19.567244Z"
    },
    "tags": []
   },
   "outputs": [
    {
     "name": "stdout",
     "output_type": "stream",
     "text": [
      "Original:  research social medium analysis experiencing recent surge large number work applying representation learning model solve high level syntactico semantic task sentiment analysis semantic textual similarity computation hashtag prediction although performance representation learning model better traditional baseline task little known core property tweet encoded within representation understanding core property would empower u making generalizable conclusion quality representation work presented constitutes first step opening black box vector embedding social medium post emphasis tweet particular order understand core property encoded tweet representation evaluate representation estimate extent model property tweet length presence word hashtags mention capitalization done help multiple classifier take representation input essentially classifier evaluates one syntactic social property arguably salient tweet also first holistic study extensively analysing ability encode property wide variety tweet representation model including traditional unsupervised method bow lda unsupervised representation learning method siamese cbow tweet vec well supervised method cnn blstm\n",
      "Token IDs: tensor([  101,  2470,  2591,  5396,  4106, 13417,  3522, 12058,  2312,  2193,\n",
      "         2147, 11243,  6630,  4083,  2944,  9611,  2152,  2504, 19962,  2696,\n",
      "        13306,  2080, 21641,  4708, 15792,  4106, 21641, 25304, 14402, 22334,\n",
      "        23325, 15900, 17547,  2348,  2836,  6630,  4083,  2944,  2488,  3151,\n",
      "        26163,  4708,  2210,  2124,  4563,  3200,  1056, 28394,  2102, 12359,\n",
      "         2306,  6630,  4824,  4563,  3200,  2052,  7861, 11452,  1057,  2437,\n",
      "         2236, 21335,  3468,  7091,  3737,  6630,  2147,  3591, 17367,  2034,\n",
      "         3357,  3098,  2304,  3482,  9207,  7861,  8270,  4667,  2591,  5396,\n",
      "         2695,  7902,  1056, 28394,  2102,  3327,  2344,  3305,  4563,  3200,\n",
      "        12359,  1056, 28394,  2102,  6630, 16157,  6630, 10197,  6698,  2944,\n",
      "         3200,  1056, 28394,  2102,  3091,  3739,  2773, 23325, 15900,  2015,\n",
      "         5254,  3007,  3989,  2589,  2393,  3674,  2465, 18095,  2202,  6630,\n",
      "         7953,  7687,  2465, 18095, 16157,  2015,  2028, 19962,  2696, 13306,\n",
      "         2591,  3200, 15835, 16183, 11638,  1056, 28394,  2102,  2036,  2034,\n",
      "         7570, 27348,  2817,  8077, 20302,  7274,  2075,  3754,  4372, 16044,\n",
      "         3200,  2898,  3528,  1056, 28394,  2102,  6630,  2944,  2164,  3151,\n",
      "         4895,  6342,  4842, 11365,  2098,  4118,  6812, 25510,  2050,  4895,\n",
      "         6342,  4842, 11365,  2098,  6630,  4083,  4118, 25583,  6810, 17324,\n",
      "         5004,  1056, 28394,  2102,  2310,  2278,  2092, 13588,  4118, 13229,\n",
      "         1038,  4877, 21246,   102,     0,     0,     0,     0,     0,     0,\n",
      "            0,     0,     0,     0,     0,     0,     0,     0,     0,     0,\n",
      "            0,     0,     0,     0,     0,     0,     0,     0,     0,     0,\n",
      "            0,     0,     0,     0,     0,     0,     0,     0,     0,     0,\n",
      "            0,     0,     0,     0,     0,     0,     0,     0,     0,     0,\n",
      "            0,     0,     0,     0,     0,     0,     0,     0,     0,     0,\n",
      "            0,     0,     0,     0,     0,     0,     0,     0,     0,     0,\n",
      "            0,     0,     0,     0,     0,     0,     0,     0,     0,     0,\n",
      "            0,     0,     0,     0,     0,     0,     0,     0,     0,     0,\n",
      "            0,     0,     0,     0,     0,     0,     0,     0,     0,     0,\n",
      "            0,     0,     0,     0,     0,     0,     0,     0,     0,     0,\n",
      "            0,     0,     0,     0,     0,     0,     0,     0,     0,     0,\n",
      "            0,     0,     0,     0,     0,     0,     0,     0,     0,     0,\n",
      "            0,     0,     0,     0,     0,     0,     0,     0,     0,     0,\n",
      "            0,     0,     0,     0,     0,     0,     0,     0,     0,     0,\n",
      "            0,     0,     0,     0,     0,     0,     0,     0,     0,     0,\n",
      "            0,     0,     0,     0,     0,     0,     0,     0,     0,     0,\n",
      "            0,     0,     0,     0,     0,     0,     0,     0,     0,     0,\n",
      "            0,     0,     0,     0,     0,     0,     0,     0,     0,     0,\n",
      "            0])\n"
     ]
    }
   ],
   "source": [
    "input_ids = []\n",
    "attention_masks = []\n",
    "\n",
    "# For every tweet...\n",
    "for text in texts:\n",
    "    # `encode_plus` will:\n",
    "    #   (1) Tokenize the sentence.\n",
    "    #   (2) Prepend the `[CLS]` token to the start.\n",
    "    #   (3) Append the `[SEP]` token to the end.\n",
    "    #   (4) Map tokens to their IDs.\n",
    "    #   (5) Pad or truncate the sentence to `max_length`\n",
    "    #   (6) Create attention masks for [PAD] tokens.\n",
    "    encoded_dict = tokenizer.encode_plus(\n",
    "                        text,                      # Sentence to encode.\n",
    "                        add_special_tokens = True, # Add '[CLS]' and '[SEP]'\n",
    "                        max_length = max_len,           # Pad & truncate all sentences.\n",
    "                        pad_to_max_length = True,\n",
    "                        return_attention_mask = True,   # Construct attn. masks.\n",
    "                        return_tensors = 'pt',     # Return pytorch tensors.\n",
    "                        truncation = True,\n",
    "                   )\n",
    "    \n",
    "    # Add the encoded sentence to the list.    \n",
    "    input_ids.append(encoded_dict['input_ids'])\n",
    "    # And its attention mask (simply differentiates padding from non-padding).\n",
    "    attention_masks.append(encoded_dict['attention_mask'])\n",
    "\n",
    "# Convert the lists into tensors.\n",
    "input_ids = torch.cat(input_ids, dim=0)\n",
    "attention_masks = torch.cat(attention_masks, dim=0)\n",
    "labels = torch.tensor(labels)\n",
    "\n",
    "# Print sentence 0, now as a list of IDs.\n",
    "print('Original: ', texts[0])\n",
    "print('Token IDs:', input_ids[0])"
   ]
  },
  {
   "cell_type": "code",
   "execution_count": 9,
   "id": "e14a733a-c01b-47ad-8397-b4baa4d3e29c",
   "metadata": {
    "execution": {
     "iopub.execute_input": "2025-03-31T03:30:00.116952Z",
     "iopub.status.busy": "2025-03-31T03:30:00.115660Z",
     "iopub.status.idle": "2025-03-31T03:30:00.189958Z",
     "shell.execute_reply": "2025-03-31T03:30:00.188689Z",
     "shell.execute_reply.started": "2025-03-31T03:30:00.116908Z"
    },
    "tags": []
   },
   "outputs": [
    {
     "name": "stdout",
     "output_type": "stream",
     "text": [
      "32,800 training samples\n",
      "8,200 validation samples\n"
     ]
    }
   ],
   "source": [
    "# Combine the training inputs into a TensorDataset.\n",
    "dataset = TensorDataset(input_ids, attention_masks, labels)\n",
    "\n",
    "# Create a 90-10 train-validation split.\n",
    "\n",
    "# Calculate the number of samples to include in each set.\n",
    "train_size = int(0.8 * len(dataset))\n",
    "#val_size = int(0.2 * len(dataset))\n",
    "val_size = len(dataset)  - train_size\n",
    "\n",
    "# Divide the dataset by randomly selecting samples.\n",
    "train_dataset, val_dataset = random_split(dataset, [train_size, val_size])\n",
    "\n",
    "print('{:>5,} training samples'.format(train_size))\n",
    "print('{:>5,} validation samples'.format(val_size))"
   ]
  },
  {
   "cell_type": "code",
   "execution_count": 10,
   "id": "f2a3512b-d521-4b48-8a97-8a0504824cbf",
   "metadata": {
    "execution": {
     "iopub.execute_input": "2025-03-31T03:30:00.196812Z",
     "iopub.status.busy": "2025-03-31T03:30:00.195340Z",
     "iopub.status.idle": "2025-03-31T03:30:00.241573Z",
     "shell.execute_reply": "2025-03-31T03:30:00.240336Z",
     "shell.execute_reply.started": "2025-03-31T03:30:00.196754Z"
    },
    "tags": []
   },
   "outputs": [],
   "source": [
    "# The DataLoader needs to know our batch size for training, so we specify it \n",
    "# here. For fine-tuning BERT on a specific task, the authors recommend a batch \n",
    "# size of 16 or 32.\n",
    "batch_size = 32\n",
    "\n",
    "# Create the DataLoaders for our training and validation sets.\n",
    "# We'll take training samples in random order. \n",
    "train_dataloader = DataLoader(\n",
    "            train_dataset,  # The training samples.\n",
    "            sampler = RandomSampler(train_dataset), # Select batches randomly\n",
    "            batch_size = batch_size # Trains with this batch size.\n",
    "        )\n",
    "\n",
    "# For validation the order doesn't matter, so we'll just read them sequentially.\n",
    "validation_dataloader = DataLoader(\n",
    "            val_dataset, # The validation samples.\n",
    "            sampler = SequentialSampler(val_dataset), # Pull out batches sequentially.\n",
    "            batch_size = batch_size # Evaluate with this batch size.\n",
    "        )"
   ]
  },
  {
   "cell_type": "code",
   "execution_count": 11,
   "id": "ed505907-74b3-4247-b091-c1e3b720508e",
   "metadata": {
    "execution": {
     "iopub.execute_input": "2025-03-31T03:30:00.243457Z",
     "iopub.status.busy": "2025-03-31T03:30:00.242688Z",
     "iopub.status.idle": "2025-03-31T03:30:38.725095Z",
     "shell.execute_reply": "2025-03-31T03:30:38.723961Z",
     "shell.execute_reply.started": "2025-03-31T03:30:00.243412Z"
    },
    "tags": []
   },
   "outputs": [
    {
     "name": "stderr",
     "output_type": "stream",
     "text": [
      "Some weights of BertForSequenceClassification were not initialized from the model checkpoint at bert-base-uncased and are newly initialized: ['classifier.bias', 'classifier.weight']\n",
      "You should probably TRAIN this model on a down-stream task to be able to use it for predictions and inference.\n"
     ]
    }
   ],
   "source": [
    "# Load BertForSequenceClassification, the pretrained BERT model with a single \n",
    "# linear classification layer on top. \n",
    "model = BertForSequenceClassification.from_pretrained(\n",
    "    \"bert-base-uncased\", # Use the 12-layer BERT model, with an uncased vocab.\n",
    "    num_labels = 8, # The number of output labels--2 for binary classification.\n",
    "                    # You can increase this for multi-class tasks.   \n",
    "    output_attentions = False, # Whether the model returns attentions weights.\n",
    "    output_hidden_states = False, # Whether the model returns all hidden-states.\n",
    ")\n",
    "\n",
    "# if device == \"cuda:0\":\n",
    "# # Tell pytorch to run this model on the GPU.\n",
    "#     model = model.cuda()\n",
    "device = torch.device(\"cuda\" if torch.cuda.is_available() else \"cpu\")\n",
    "model = model.to(device)"
   ]
  },
  {
   "cell_type": "code",
   "execution_count": 12,
   "id": "eb737cd3-a484-4d0e-a19d-799924f4ce1c",
   "metadata": {
    "execution": {
     "iopub.execute_input": "2025-03-31T03:30:38.727092Z",
     "iopub.status.busy": "2025-03-31T03:30:38.726341Z",
     "iopub.status.idle": "2025-03-31T03:30:38.756354Z",
     "shell.execute_reply": "2025-03-31T03:30:38.755300Z",
     "shell.execute_reply.started": "2025-03-31T03:30:38.727043Z"
    },
    "tags": []
   },
   "outputs": [],
   "source": [
    "optimizer = AdamW(model.parameters(),\n",
    "                  lr = 2e-5, # args.learning_rate - default is 5e-5, our notebook had 2e-5\n",
    "                  eps = 1e-8 # args.adam_epsilon  - default is 1e-8.\n",
    "                )"
   ]
  },
  {
   "cell_type": "code",
   "execution_count": 13,
   "id": "a16482a4-5880-4196-90af-db6b5db9a8a0",
   "metadata": {
    "execution": {
     "iopub.execute_input": "2025-03-31T03:30:38.758905Z",
     "iopub.status.busy": "2025-03-31T03:30:38.757734Z",
     "iopub.status.idle": "2025-03-31T03:30:38.784631Z",
     "shell.execute_reply": "2025-03-31T03:30:38.783320Z",
     "shell.execute_reply.started": "2025-03-31T03:30:38.758858Z"
    },
    "tags": []
   },
   "outputs": [],
   "source": [
    "# Number of training epochs. The BERT authors recommend between 2 and 4. \n",
    "# We chose to run for 4, but we'll see later that this may be over-fitting the\n",
    "# training data.\n",
    "epochs = 4\n",
    "\n",
    "# Total number of training steps is [number of batches] x [number of epochs]. \n",
    "# (Note that this is not the same as the number of training samples).\n",
    "total_steps = len(train_dataloader) * epochs\n",
    "\n",
    "# Create the learning rate scheduler.\n",
    "scheduler = get_linear_schedule_with_warmup(optimizer, \n",
    "                                            num_warmup_steps = 0, # Default value in run_glue.py\n",
    "                                            num_training_steps = total_steps)"
   ]
  },
  {
   "cell_type": "code",
   "execution_count": 14,
   "id": "2c2ff19c-5d17-4a07-8a05-15fe00660dc0",
   "metadata": {
    "execution": {
     "iopub.execute_input": "2025-03-31T03:30:38.787339Z",
     "iopub.status.busy": "2025-03-31T03:30:38.785968Z",
     "iopub.status.idle": "2025-03-31T03:30:38.809250Z",
     "shell.execute_reply": "2025-03-31T03:30:38.808112Z",
     "shell.execute_reply.started": "2025-03-31T03:30:38.787287Z"
    },
    "tags": []
   },
   "outputs": [],
   "source": [
    "# Function to calculate the accuracy of our predictions vs labels\n",
    "def flat_accuracy(preds, labels):\n",
    "    pred_flat = np.argmax(preds, axis=1).flatten()\n",
    "    labels_flat = labels.flatten()\n",
    "    return np.sum(pred_flat == labels_flat) / len(labels_flat)\n",
    "\n",
    "\n",
    "\n",
    "def flat_f1(preds, labels):\n",
    "    pred_flat = np.argmax(preds, axis=1).flatten()\n",
    "    labels_flat = labels.flatten()\n",
    "    return f1_score(labels_flat, pred_flat, average='weighted')"
   ]
  },
  {
   "cell_type": "code",
   "execution_count": 15,
   "id": "d7a5b29e-8d16-4c90-81b1-f64644f399ad",
   "metadata": {
    "execution": {
     "iopub.execute_input": "2025-03-31T03:30:38.811394Z",
     "iopub.status.busy": "2025-03-31T03:30:38.810555Z",
     "iopub.status.idle": "2025-03-31T03:30:38.831869Z",
     "shell.execute_reply": "2025-03-31T03:30:38.830793Z",
     "shell.execute_reply.started": "2025-03-31T03:30:38.811343Z"
    },
    "tags": []
   },
   "outputs": [],
   "source": [
    "def format_time(elapsed):\n",
    "    '''\n",
    "    Takes a time in seconds and returns a string hh:mm:ss\n",
    "    '''\n",
    "    # Round to the nearest second.\n",
    "    elapsed_rounded = int(round((elapsed)))\n",
    "    # Format as hh:mm:ss\n",
    "    return str(datetime.timedelta(seconds=elapsed_rounded))"
   ]
  },
  {
   "cell_type": "code",
   "execution_count": 16,
   "id": "6ded660c-1508-412a-b6d2-8e4f5b55578b",
   "metadata": {
    "execution": {
     "iopub.execute_input": "2025-03-31T03:30:38.835098Z",
     "iopub.status.busy": "2025-03-31T03:30:38.833081Z",
     "iopub.status.idle": "2025-03-31T03:30:38.868650Z",
     "shell.execute_reply": "2025-03-31T03:30:38.867498Z",
     "shell.execute_reply.started": "2025-03-31T03:30:38.835051Z"
    },
    "tags": []
   },
   "outputs": [
    {
     "data": {
      "text/plain": [
       "1025"
      ]
     },
     "execution_count": 16,
     "metadata": {},
     "output_type": "execute_result"
    }
   ],
   "source": [
    "len(train_dataloader)"
   ]
  },
  {
   "cell_type": "code",
   "execution_count": 17,
   "id": "553f9d79-a767-449a-97b1-a5fbc54200d7",
   "metadata": {
    "execution": {
     "iopub.execute_input": "2025-03-31T03:30:38.871827Z",
     "iopub.status.busy": "2025-03-31T03:30:38.869824Z",
     "iopub.status.idle": "2025-03-31T04:21:10.231770Z",
     "shell.execute_reply": "2025-03-31T04:21:10.230523Z",
     "shell.execute_reply.started": "2025-03-31T03:30:38.871760Z"
    },
    "tags": []
   },
   "outputs": [
    {
     "name": "stdout",
     "output_type": "stream",
     "text": [
      "\n",
      "======== Epoch 1 / 4 ========\n",
      "Training...\n"
     ]
    },
    {
     "name": "stderr",
     "output_type": "stream",
     "text": [
      "1025it [11:26,  1.49it/s]"
     ]
    },
    {
     "name": "stdout",
     "output_type": "stream",
     "text": [
      "\n",
      "  Average training loss: 0.46\n",
      "  Training epcoh took: 0:11:26\n",
      "\n",
      "Running Validation...\n"
     ]
    },
    {
     "name": "stderr",
     "output_type": "stream",
     "text": [
      "\n"
     ]
    },
    {
     "name": "stdout",
     "output_type": "stream",
     "text": [
      "  Accuracy: 0.85\n",
      "  F1: 0.83\n",
      "\n",
      "======== Epoch 2 / 4 ========\n",
      "Training...\n"
     ]
    },
    {
     "name": "stderr",
     "output_type": "stream",
     "text": [
      "1025it [11:12,  1.52it/s]"
     ]
    },
    {
     "name": "stdout",
     "output_type": "stream",
     "text": [
      "\n",
      "  Average training loss: 0.37\n",
      "  Training epcoh took: 0:11:12\n",
      "\n",
      "Running Validation...\n"
     ]
    },
    {
     "name": "stderr",
     "output_type": "stream",
     "text": [
      "\n"
     ]
    },
    {
     "name": "stdout",
     "output_type": "stream",
     "text": [
      "  Accuracy: 0.86\n",
      "  F1: 0.84\n",
      "\n",
      "======== Epoch 3 / 4 ========\n",
      "Training...\n"
     ]
    },
    {
     "name": "stderr",
     "output_type": "stream",
     "text": [
      "1025it [11:12,  1.52it/s]\n"
     ]
    },
    {
     "name": "stdout",
     "output_type": "stream",
     "text": [
      "\n",
      "  Average training loss: 0.31\n",
      "  Training epcoh took: 0:11:12\n",
      "\n",
      "Running Validation...\n",
      "  Accuracy: 0.85\n",
      "  F1: 0.84\n",
      "\n",
      "======== Epoch 4 / 4 ========\n",
      "Training...\n"
     ]
    },
    {
     "name": "stderr",
     "output_type": "stream",
     "text": [
      "1025it [11:12,  1.52it/s]"
     ]
    },
    {
     "name": "stdout",
     "output_type": "stream",
     "text": [
      "\n",
      "  Average training loss: 0.25\n",
      "  Training epcoh took: 0:11:12\n",
      "\n",
      "Running Validation...\n"
     ]
    },
    {
     "name": "stderr",
     "output_type": "stream",
     "text": [
      "\n"
     ]
    },
    {
     "name": "stdout",
     "output_type": "stream",
     "text": [
      "  Accuracy: 0.85\n",
      "  F1: 0.83\n",
      "\n",
      "Training complete!\n",
      "Total training took 0:50:31 (h:mm:ss)\n"
     ]
    }
   ],
   "source": [
    "seed_val = 42\n",
    "random.seed(seed_val)\n",
    "np.random.seed(seed_val)\n",
    "torch.manual_seed(seed_val)\n",
    "torch.cuda.manual_seed_all(seed_val)\n",
    "training_stats = []\n",
    "\n",
    "# Measure the total training time for the whole run.\n",
    "total_t0 = time.time()\n",
    "\n",
    "# For each epoch...\n",
    "for epoch_i in range(0, epochs):\n",
    "    \n",
    "    # ========================================\n",
    "    #               Training\n",
    "    # ========================================\n",
    "    # Perform one full pass over the training set.\n",
    "    print(\"\")\n",
    "    print('======== Epoch {:} / {:} ========'.format(epoch_i + 1, epochs))\n",
    "    print('Training...')\n",
    "    # Measure how long the training epoch takes.\n",
    "    t0 = time.time()\n",
    "    total_train_loss = 0\n",
    "    model.train()\n",
    "    for step, batch in tqdm(enumerate(train_dataloader)):\n",
    "        # Unpack this training batch from our dataloader. \n",
    "        #\n",
    "        # As we unpack the batch, we'll also copy each tensor to the device using the \n",
    "        # `to` method.\n",
    "        #\n",
    "        # `batch` contains three pytorch tensors:\n",
    "        #   [0]: input ids \n",
    "        #   [1]: attention masks\n",
    "        #   [2]: labels \n",
    "        b_input_ids = batch[0].to(device)\n",
    "        b_input_mask = batch[1].to(device)\n",
    "        b_labels = batch[2].to(device)\n",
    "        optimizer.zero_grad()\n",
    "        output = model(b_input_ids, \n",
    "                             token_type_ids=None, \n",
    "                             attention_mask=b_input_mask, \n",
    "                             labels=b_labels)        \n",
    "        loss = output.loss\n",
    "        total_train_loss += loss.item()\n",
    "        # Perform a backward pass to calculate the gradients.\n",
    "        loss.backward()\n",
    "        # Clip the norm of the gradients to 1.0.\n",
    "        # This is to help prevent the \"exploding gradients\" problem.\n",
    "        torch.nn.utils.clip_grad_norm_(model.parameters(), 1.0)\n",
    "        # Update parameters and take a step using the computed gradient.\n",
    "        # The optimizer dictates the \"update rule\"--how the parameters are\n",
    "        # modified based on their gradients, the learning rate, etc.\n",
    "        optimizer.step()\n",
    "        # Update the learning rate.\n",
    "        scheduler.step()\n",
    "\n",
    "    # Calculate the average loss over all of the batches.\n",
    "    avg_train_loss = total_train_loss / len(train_dataloader)            \n",
    "    \n",
    "    # Measure how long this epoch took.\n",
    "    training_time = format_time(time.time() - t0)\n",
    "    print(\"\")\n",
    "    print(\"  Average training loss: {0:.2f}\".format(avg_train_loss))\n",
    "    print(\"  Training epcoh took: {:}\".format(training_time))\n",
    "    # ========================================\n",
    "    #               Validation\n",
    "    # ========================================\n",
    "    # After the completion of each training epoch, measure our performance on\n",
    "    # our validation set.\n",
    "    print(\"\")\n",
    "    print(\"Running Validation...\")\n",
    "    t0 = time.time()\n",
    "    # Put the model in evaluation mode--the dropout layers behave differently\n",
    "    # during evaluation.\n",
    "    model.eval()\n",
    "    # Tracking variables \n",
    "    total_eval_accuracy = 0\n",
    "    best_eval_accuracy = 0\n",
    "    total_eval_f1 = 0\n",
    "    total_eval_loss = 0\n",
    "    nb_eval_steps = 0\n",
    "    # Evaluate data for one epoch\n",
    "    for batch in validation_dataloader:\n",
    "        b_input_ids = batch[0].to(device)\n",
    "        b_input_mask = batch[1].to(device)\n",
    "        b_labels = batch[2].to(device)\n",
    "        # Tell pytorch not to bother with constructing the compute graph during\n",
    "        # the forward pass, since this is only needed for backprop (training).\n",
    "        with torch.no_grad():        \n",
    "            output= model(b_input_ids, \n",
    "                                   token_type_ids=None, \n",
    "                                   attention_mask=b_input_mask,\n",
    "                                   labels=b_labels)\n",
    "        loss = output.loss\n",
    "        total_eval_loss += loss.item()\n",
    "        # Move logits and labels to CPU if we are using GPU\n",
    "        logits = output.logits\n",
    "        logits = logits.detach().cpu().numpy()\n",
    "        label_ids = b_labels.to('cpu').numpy()\n",
    "        # Calculate the accuracy for this batch of test sentences, and\n",
    "        # accumulate it over all batches.\n",
    "        total_eval_accuracy += flat_accuracy(logits, label_ids)\n",
    "        total_eval_f1 += flat_f1(logits, label_ids)\n",
    "    # Report the final accuracy for this validation run.\n",
    "    avg_val_accuracy = total_eval_accuracy / len(validation_dataloader)\n",
    "    print(\"  Accuracy: {0:.2f}\".format(avg_val_accuracy))\n",
    "    avg_val_f1 = total_eval_f1 / len(validation_dataloader)\n",
    "    print(\"  F1: {0:.2f}\".format(avg_val_f1))\n",
    "    \n",
    "    # Calculate the average loss over all of the batches.\n",
    "    avg_val_loss = total_eval_loss / len(validation_dataloader)\n",
    "    # Measure how long the validation run took.\n",
    "    validation_time = format_time(time.time() - t0)\n",
    "    if avg_val_accuracy > best_eval_accuracy:\n",
    "        torch.save(model, 'bert_model')\n",
    "        best_eval_accuracy = avg_val_accuracy\n",
    "    #print(\"  Validation Loss: {0:.2f}\".format(avg_val_loss))\n",
    "    #print(\"  Validation took: {:}\".format(validation_time))\n",
    "    # Record all statistics from this epoch.\n",
    "    training_stats.append(\n",
    "        {\n",
    "            'epoch': epoch_i + 1,\n",
    "            'Training Loss': avg_train_loss,\n",
    "            'Valid. Loss': avg_val_loss,\n",
    "            'Valid. Accur.': avg_val_accuracy,\n",
    "            'Valid. F1': avg_val_f1,\n",
    "            'Training Time': training_time,\n",
    "            'Validation Time': validation_time\n",
    "        }\n",
    "    )\n",
    "print(\"\")\n",
    "print(\"Training complete!\")\n",
    "\n",
    "print(\"Total training took {:} (h:mm:ss)\".format(format_time(time.time()-total_t0)))"
   ]
  },
  {
   "cell_type": "code",
   "execution_count": null,
   "id": "d16183ca-6b8c-46c7-975b-c73c25214a8e",
   "metadata": {},
   "outputs": [],
   "source": []
  },
  {
   "cell_type": "code",
   "execution_count": null,
   "id": "8c1761f1-34e9-470f-87da-7fce3d965736",
   "metadata": {},
   "outputs": [],
   "source": []
  },
  {
   "cell_type": "code",
   "execution_count": 38,
   "id": "af448483-84e8-4709-9045-56bc14a018a7",
   "metadata": {
    "execution": {
     "iopub.execute_input": "2025-03-31T05:00:35.381794Z",
     "iopub.status.busy": "2025-03-31T05:00:35.380285Z",
     "iopub.status.idle": "2025-03-31T05:00:45.895736Z",
     "shell.execute_reply": "2025-03-31T05:00:45.894608Z",
     "shell.execute_reply.started": "2025-03-31T05:00:35.381749Z"
    },
    "tags": []
   },
   "outputs": [],
   "source": [
    "model = torch.load('bert_model')\n",
    "tokenizer = BertTokenizer.from_pretrained('bert-base-uncased', do_lower_case=True)"
   ]
  },
  {
   "cell_type": "code",
   "execution_count": 40,
   "id": "622afcf9-02d8-4a7c-b7c8-793617ca4b6d",
   "metadata": {
    "execution": {
     "iopub.execute_input": "2025-03-31T05:01:10.879378Z",
     "iopub.status.busy": "2025-03-31T05:01:10.877605Z",
     "iopub.status.idle": "2025-03-31T05:01:10.904164Z",
     "shell.execute_reply": "2025-03-31T05:01:10.902941Z",
     "shell.execute_reply.started": "2025-03-31T05:01:10.879337Z"
    },
    "tags": []
   },
   "outputs": [
    {
     "name": "stderr",
     "output_type": "stream",
     "text": [
      "[nltk_data] Downloading package wordnet to /home/jupyter/nltk_data...\n",
      "[nltk_data]   Package wordnet is already up-to-date!\n",
      "[nltk_data] Downloading package punkt to /home/jupyter/nltk_data...\n",
      "[nltk_data]   Package punkt is already up-to-date!\n",
      "[nltk_data] Downloading package stopwords to\n",
      "[nltk_data]     /home/jupyter/nltk_data...\n",
      "[nltk_data]   Package stopwords is already up-to-date!\n"
     ]
    }
   ],
   "source": [
    "import re\n",
    "from nltk.corpus import stopwords\n",
    "from nltk.stem import WordNetLemmatizer\n",
    "import nltk\n",
    "nltk.download('wordnet')\n",
    "nltk.download('punkt')\n",
    "nltk.download('stopwords')\n",
    "\n",
    "stop_words = set(stopwords.words('english'))\n",
    "#self.stop_words.extend(['unused word1', 'unused word2']) - слова которые добавить в стопвордс - по результатам EDA\n",
    "lemmatizer = WordNetLemmatizer()\n",
    "\n",
    "def clean_text(phrase):\n",
    "    cleared_text = re.sub(r'[^a-zA-Z\\s]', ' ', phrase)  # Чистим текст\n",
    "    words = cleared_text.lower().split()  # Токенизация и приведение к нижнему регистру\n",
    "    filtered_words = [word for word in words if word not in stop_words]  # Убираем стоп-слова\n",
    "    lemmatized_words = [lemmatizer.lemmatize(word) for word in filtered_words]  # Лемматизация\n",
    "    return ' '.join(lemmatized_words).strip()"
   ]
  },
  {
   "cell_type": "code",
   "execution_count": null,
   "id": "29839535-c3c9-4a0c-8f60-5c2e2d93973c",
   "metadata": {},
   "outputs": [],
   "source": []
  },
  {
   "cell_type": "code",
   "execution_count": 41,
   "id": "6b673275-fd03-4fd0-b6cf-e689b16f82cb",
   "metadata": {
    "execution": {
     "iopub.execute_input": "2025-03-31T05:01:12.780373Z",
     "iopub.status.busy": "2025-03-31T05:01:12.779463Z",
     "iopub.status.idle": "2025-03-31T05:01:13.044635Z",
     "shell.execute_reply": "2025-03-31T05:01:13.043224Z",
     "shell.execute_reply.started": "2025-03-31T05:01:12.780337Z"
    },
    "tags": []
   },
   "outputs": [
    {
     "data": {
      "text/plain": [
       "BertForSequenceClassification(\n",
       "  (bert): BertModel(\n",
       "    (embeddings): BertEmbeddings(\n",
       "      (word_embeddings): Embedding(30522, 768, padding_idx=0)\n",
       "      (position_embeddings): Embedding(512, 768)\n",
       "      (token_type_embeddings): Embedding(2, 768)\n",
       "      (LayerNorm): LayerNorm((768,), eps=1e-12, elementwise_affine=True)\n",
       "      (dropout): Dropout(p=0.1, inplace=False)\n",
       "    )\n",
       "    (encoder): BertEncoder(\n",
       "      (layer): ModuleList(\n",
       "        (0-11): 12 x BertLayer(\n",
       "          (attention): BertAttention(\n",
       "            (self): BertSdpaSelfAttention(\n",
       "              (query): Linear(in_features=768, out_features=768, bias=True)\n",
       "              (key): Linear(in_features=768, out_features=768, bias=True)\n",
       "              (value): Linear(in_features=768, out_features=768, bias=True)\n",
       "              (dropout): Dropout(p=0.1, inplace=False)\n",
       "            )\n",
       "            (output): BertSelfOutput(\n",
       "              (dense): Linear(in_features=768, out_features=768, bias=True)\n",
       "              (LayerNorm): LayerNorm((768,), eps=1e-12, elementwise_affine=True)\n",
       "              (dropout): Dropout(p=0.1, inplace=False)\n",
       "            )\n",
       "          )\n",
       "          (intermediate): BertIntermediate(\n",
       "            (dense): Linear(in_features=768, out_features=3072, bias=True)\n",
       "            (intermediate_act_fn): GELUActivation()\n",
       "          )\n",
       "          (output): BertOutput(\n",
       "            (dense): Linear(in_features=3072, out_features=768, bias=True)\n",
       "            (LayerNorm): LayerNorm((768,), eps=1e-12, elementwise_affine=True)\n",
       "            (dropout): Dropout(p=0.1, inplace=False)\n",
       "          )\n",
       "        )\n",
       "      )\n",
       "    )\n",
       "    (pooler): BertPooler(\n",
       "      (dense): Linear(in_features=768, out_features=768, bias=True)\n",
       "      (activation): Tanh()\n",
       "    )\n",
       "  )\n",
       "  (dropout): Dropout(p=0.1, inplace=False)\n",
       "  (classifier): Linear(in_features=768, out_features=8, bias=True)\n",
       ")"
      ]
     },
     "execution_count": 41,
     "metadata": {},
     "output_type": "execute_result"
    }
   ],
   "source": [
    "device = torch.device(\"cpu\")\n",
    "model.to(device)"
   ]
  },
  {
   "cell_type": "code",
   "execution_count": 42,
   "id": "696b65b5-0eeb-4424-a9b1-88ca29601573",
   "metadata": {
    "execution": {
     "iopub.execute_input": "2025-03-31T05:01:13.391608Z",
     "iopub.status.busy": "2025-03-31T05:01:13.390092Z",
     "iopub.status.idle": "2025-03-31T05:01:13.636978Z",
     "shell.execute_reply": "2025-03-31T05:01:13.635733Z",
     "shell.execute_reply.started": "2025-03-31T05:01:13.391535Z"
    },
    "tags": []
   },
   "outputs": [
    {
     "name": "stdout",
     "output_type": "stream",
     "text": [
      "math\n",
      "CPU times: user 387 ms, sys: 0 ns, total: 387 ms\n",
      "Wall time: 102 ms\n"
     ]
    }
   ],
   "source": [
    "%%time\n",
    "\n",
    "raw_text = \"\"\"\n",
    "\n",
    "Graded vector bundles over a given Z-graded manifold can be defined in three different ways: certain sheaves of graded modules over the structure sheaf of the base graded manifold, finitely generated projective graded modules over the algebra of global functions on the base graded manifold, or locally trivial graded manifolds with a suitable linear structure. We argue that all three approaches are the same. More precisely, the respective categories are proved to be equivalent.\n",
    "\n",
    "\n",
    "\"\"\"\n",
    "\n",
    "text = clean_text(raw_text)\n",
    "\n",
    "\n",
    "encoding = tokenizer(text, return_tensors=\"pt\", truncation=True, padding=True, max_length=512)\n",
    "encoding = {k: v.to(model.device) for k,v in encoding.items()}\n",
    "\n",
    "with torch.no_grad():\n",
    "    outputs = model(**encoding)\n",
    "\n",
    "predicted_class = torch.argmax(outputs.logits, dim=1).item()\n",
    "mapping = {0: 'cs', 1: 'econ', 2: 'eess', 3: 'math', 4: 'physics', 5: 'q-bio', 6: 'q-fin', 7: 'stat'}\n",
    "class_name = mapping[predicted_class] \n",
    "print(class_name)"
   ]
  },
  {
   "cell_type": "code",
   "execution_count": null,
   "id": "9c099dad-7966-4f91-8d09-abc6394d192b",
   "metadata": {},
   "outputs": [],
   "source": []
  },
  {
   "cell_type": "code",
   "execution_count": null,
   "id": "ed48c6d0-f4db-4113-8678-ecc6b74287a9",
   "metadata": {},
   "outputs": [],
   "source": []
  },
  {
   "cell_type": "code",
   "execution_count": null,
   "id": "2c99ba9d-1acd-4ea0-919d-03c495be531c",
   "metadata": {},
   "outputs": [],
   "source": []
  }
 ],
 "metadata": {
  "kernelspec": {
   "display_name": "DataSphere Kernel",
   "language": "python",
   "name": "python3"
  },
  "language_info": {
   "codemirror_mode": {
    "name": "ipython",
    "version": 3
   },
   "file_extension": ".py",
   "mimetype": "text/x-python",
   "name": "python",
   "nbconvert_exporter": "python",
   "pygments_lexer": "ipython3",
   "version": "3.10.12"
  }
 },
 "nbformat": 4,
 "nbformat_minor": 5
}
