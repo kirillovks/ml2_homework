{
 "cells": [
  {
   "cell_type": "markdown",
   "id": "cffc06dd-fb97-4195-ad03-145a3a37e22a",
   "metadata": {},
   "source": [
    "https://www.kaggle.com/datasets/neelshah18/arxivdataset/data\n",
    "\n",
    "https://github.com/NikitaTrTr/Fake-news-detector/tree/master"
   ]
  },
  {
   "cell_type": "code",
   "execution_count": 88,
   "id": "032ccb63-7383-4836-b547-e93239d3dbd4",
   "metadata": {},
   "outputs": [],
   "source": [
    "import json\n",
    "import ast\n",
    "import pandas as pd\n",
    "import re\n",
    "import nltk\n",
    "from nltk.corpus import stopwords\n",
    "from sklearn.preprocessing import LabelEncoder\n",
    "from tqdm import tqdm\n",
    "from nltk.stem import WordNetLemmatizer\n",
    "import swifter"
   ]
  },
  {
   "cell_type": "code",
   "execution_count": 5,
   "id": "ac2afea7-9551-4b8e-9422-37f10ab07a6d",
   "metadata": {},
   "outputs": [],
   "source": [
    "with open('arxivData.json') as f:\n",
    "    data = json.load(f)"
   ]
  },
  {
   "cell_type": "code",
   "execution_count": 40,
   "id": "26509f6f-3400-4d6b-af1d-ca11cb832a56",
   "metadata": {},
   "outputs": [
    {
     "data": {
      "text/plain": [
       "41000"
      ]
     },
     "execution_count": 40,
     "metadata": {},
     "output_type": "execute_result"
    }
   ],
   "source": [
    "len(data)"
   ]
  },
  {
   "cell_type": "code",
   "execution_count": 7,
   "id": "1ad54da9-74d1-4a72-a02f-4895f3078514",
   "metadata": {},
   "outputs": [
    {
     "data": {
      "text/plain": [
       "dict_keys(['author', 'day', 'id', 'link', 'month', 'summary', 'tag', 'title', 'year'])"
      ]
     },
     "execution_count": 7,
     "metadata": {},
     "output_type": "execute_result"
    }
   ],
   "source": [
    "data[0].keys()"
   ]
  },
  {
   "cell_type": "code",
   "execution_count": 37,
   "id": "3947c497-9f22-4143-990f-5662067fce11",
   "metadata": {},
   "outputs": [
    {
     "data": {
      "text/plain": [
       "'Character-based Neural Machine Translation'"
      ]
     },
     "execution_count": 37,
     "metadata": {},
     "output_type": "execute_result"
    }
   ],
   "source": [
    "data[110]['title']"
   ]
  },
  {
   "cell_type": "code",
   "execution_count": 38,
   "id": "ac40fa57-75fc-49d8-b0a5-0a54dfbd3b9a",
   "metadata": {},
   "outputs": [
    {
     "data": {
      "text/plain": [
       "'Neural Machine Translation (MT) has reached state-of-the-art results.\\nHowever, one of the main challenges that neural MT still faces is dealing with\\nvery large vocabularies and morphologically rich languages. In this paper, we\\npropose a neural MT system using character-based embeddings in combination with\\nconvolutional and highway layers to replace the standard lookup-based word\\nrepresentations. The resulting unlimited-vocabulary and affix-aware source word\\nembeddings are tested in a state-of-the-art neural MT based on an\\nattention-based bidirectional recurrent neural network. The proposed MT scheme\\nprovides improved results even when the source language is not morphologically\\nrich. Improvements up to 3 BLEU points are obtained in the German-English WMT\\ntask.'"
      ]
     },
     "execution_count": 38,
     "metadata": {},
     "output_type": "execute_result"
    }
   ],
   "source": [
    "data[110]['summary']"
   ]
  },
  {
   "cell_type": "code",
   "execution_count": 39,
   "id": "d051a6e4-d59a-48d0-a9dc-4e7ede65d960",
   "metadata": {},
   "outputs": [
    {
     "data": {
      "text/plain": [
       "\"[{'term': 'cs.CL', 'scheme': 'http://arxiv.org/schemas/atom', 'label': None}, {'term': 'cs.LG', 'scheme': 'http://arxiv.org/schemas/atom', 'label': None}, {'term': 'cs.NE', 'scheme': 'http://arxiv.org/schemas/atom', 'label': None}, {'term': 'stat.ML', 'scheme': 'http://arxiv.org/schemas/atom', 'label': None}]\""
      ]
     },
     "execution_count": 39,
     "metadata": {},
     "output_type": "execute_result"
    }
   ],
   "source": [
    "data[110]['tag']"
   ]
  },
  {
   "cell_type": "code",
   "execution_count": 92,
   "id": "a9dfd354-b02d-4cd0-ae8b-d83e3d39de90",
   "metadata": {},
   "outputs": [
    {
     "name": "stderr",
     "output_type": "stream",
     "text": [
      "[nltk_data] Downloading package wordnet to\n",
      "[nltk_data]     C:\\Users\\kirki\\AppData\\Roaming\\nltk_data...\n",
      "[nltk_data] Downloading package punkt to\n",
      "[nltk_data]     C:\\Users\\kirki\\AppData\\Roaming\\nltk_data...\n",
      "[nltk_data]   Package punkt is already up-to-date!\n",
      "[nltk_data] Downloading package stopwords to\n",
      "[nltk_data]     C:\\Users\\kirki\\AppData\\Roaming\\nltk_data...\n",
      "[nltk_data]   Package stopwords is already up-to-date!\n"
     ]
    },
    {
     "data": {
      "text/plain": [
       "True"
      ]
     },
     "execution_count": 92,
     "metadata": {},
     "output_type": "execute_result"
    }
   ],
   "source": [
    "import nltk\n",
    "nltk.download('wordnet')\n",
    "nltk.download('punkt')\n",
    "nltk.download('stopwords')"
   ]
  },
  {
   "cell_type": "code",
   "execution_count": 93,
   "id": "60bc0197-4090-4452-909c-4fca3183dd45",
   "metadata": {},
   "outputs": [],
   "source": [
    "class Preprocessor:\n",
    "    def __init__(self):\n",
    "        self.stop_words = set(stopwords.words('english'))\n",
    "        #self.stop_words.extend(['unused word1', 'unused word2']) - слова которые добавить в стопвордс - по результатам EDA\n",
    "        self.lemmatizer = WordNetLemmatizer()\n",
    "        self.label_encoder = LabelEncoder()\n",
    "\n",
    "    def preprocess(self, data):\n",
    "        result = data.copy()\n",
    "        result = result.dropna(subset=['text', 'title', 'class'])\n",
    "        result = result[(result['text'] != '') & (result['title'] != '') & (result['class'] != '')]\n",
    "\n",
    "        result['text'] = result['text'].swifter.apply(self.clean_text)\n",
    "        result['title'] = result['title'].swifter.apply(self.clean_text)\n",
    "\n",
    "        # Кодирование классов\n",
    "        result['class_code'] = self.label_encoder.fit_transform(result['class'])\n",
    "\n",
    "        # Перемешивание данных\n",
    "        result = result.sample(frac=1).reset_index(drop=True)\n",
    "        return result\n",
    "\n",
    "    def clean_text(self, phrase):\n",
    "        cleared_text = re.sub(r'[^a-zA-Z\\s]', ' ', phrase)  # Чистим текст\n",
    "        words = cleared_text.lower().split()  # Токенизация и приведение к нижнему регистру\n",
    "        filtered_words = [word for word in words if word not in self.stop_words]  # Убираем стоп-слова\n",
    "        lemmatized_words = [self.lemmatizer.lemmatize(word) for word in filtered_words]  # Лемматизация\n",
    "        return ' '.join(lemmatized_words).strip()"
   ]
  },
  {
   "cell_type": "code",
   "execution_count": 94,
   "id": "f305d14e-5fdc-4cbc-b7eb-78caa83b5c07",
   "metadata": {},
   "outputs": [],
   "source": [
    "titles = []\n",
    "abstracts = []\n",
    "classes = []\n",
    "\n",
    "for i in range(len(data)):\n",
    "    title = data[i]['title']\n",
    "    abstract = data[i]['summary']\n",
    "    paper_class = ast.literal_eval(data[i]['tag'])[0]['term'].split('.')[0]\n",
    "\n",
    "    titles.append(title)\n",
    "    abstracts.append(abstract)\n",
    "    classes.append(paper_class)\n",
    "\n",
    "dataset = pd.DataFrame({\n",
    "    'title': titles,\n",
    "    'text': abstracts,\n",
    "    'class': classes\n",
    "})"
   ]
  },
  {
   "cell_type": "code",
   "execution_count": 95,
   "id": "5ceb9078-58cf-4e9a-af9e-9e629bf2ecdf",
   "metadata": {},
   "outputs": [
    {
     "data": {
      "text/html": [
       "<div>\n",
       "<style scoped>\n",
       "    .dataframe tbody tr th:only-of-type {\n",
       "        vertical-align: middle;\n",
       "    }\n",
       "\n",
       "    .dataframe tbody tr th {\n",
       "        vertical-align: top;\n",
       "    }\n",
       "\n",
       "    .dataframe thead th {\n",
       "        text-align: right;\n",
       "    }\n",
       "</style>\n",
       "<table border=\"1\" class=\"dataframe\">\n",
       "  <thead>\n",
       "    <tr style=\"text-align: right;\">\n",
       "      <th></th>\n",
       "      <th>title</th>\n",
       "      <th>text</th>\n",
       "      <th>class</th>\n",
       "    </tr>\n",
       "  </thead>\n",
       "  <tbody>\n",
       "    <tr>\n",
       "      <th>0</th>\n",
       "      <td>Dual Recurrent Attention Units for Visual Ques...</td>\n",
       "      <td>We propose an architecture for VQA which utili...</td>\n",
       "      <td>cs</td>\n",
       "    </tr>\n",
       "    <tr>\n",
       "      <th>1</th>\n",
       "      <td>Sequential Short-Text Classification with Recu...</td>\n",
       "      <td>Recent approaches based on artificial neural n...</td>\n",
       "      <td>cs</td>\n",
       "    </tr>\n",
       "    <tr>\n",
       "      <th>2</th>\n",
       "      <td>Multiresolution Recurrent Neural Networks: An ...</td>\n",
       "      <td>We introduce the multiresolution recurrent neu...</td>\n",
       "      <td>cs</td>\n",
       "    </tr>\n",
       "    <tr>\n",
       "      <th>3</th>\n",
       "      <td>Learning what to share between loosely related...</td>\n",
       "      <td>Multi-task learning is motivated by the observ...</td>\n",
       "      <td>stat</td>\n",
       "    </tr>\n",
       "    <tr>\n",
       "      <th>4</th>\n",
       "      <td>A Deep Reinforcement Learning Chatbot</td>\n",
       "      <td>We present MILABOT: a deep reinforcement learn...</td>\n",
       "      <td>cs</td>\n",
       "    </tr>\n",
       "  </tbody>\n",
       "</table>\n",
       "</div>"
      ],
      "text/plain": [
       "                                               title  \\\n",
       "0  Dual Recurrent Attention Units for Visual Ques...   \n",
       "1  Sequential Short-Text Classification with Recu...   \n",
       "2  Multiresolution Recurrent Neural Networks: An ...   \n",
       "3  Learning what to share between loosely related...   \n",
       "4              A Deep Reinforcement Learning Chatbot   \n",
       "\n",
       "                                                text class  \n",
       "0  We propose an architecture for VQA which utili...    cs  \n",
       "1  Recent approaches based on artificial neural n...    cs  \n",
       "2  We introduce the multiresolution recurrent neu...    cs  \n",
       "3  Multi-task learning is motivated by the observ...  stat  \n",
       "4  We present MILABOT: a deep reinforcement learn...    cs  "
      ]
     },
     "execution_count": 95,
     "metadata": {},
     "output_type": "execute_result"
    }
   ],
   "source": [
    "dataset.head()"
   ]
  },
  {
   "cell_type": "code",
   "execution_count": 96,
   "id": "76d90b04-bea7-4ab6-8946-870efeb16bf4",
   "metadata": {},
   "outputs": [],
   "source": [
    "preprocessor = Preprocessor()"
   ]
  },
  {
   "cell_type": "code",
   "execution_count": 97,
   "id": "973bddd2-dfb9-4d60-a05f-f79c090fa440",
   "metadata": {},
   "outputs": [
    {
     "data": {
      "application/vnd.jupyter.widget-view+json": {
       "model_id": "d67bd0a476c24db29d8a18e9ffd6a1fb",
       "version_major": 2,
       "version_minor": 0
      },
      "text/plain": [
       "Pandas Apply:   0%|          | 0/41000 [00:00<?, ?it/s]"
      ]
     },
     "metadata": {},
     "output_type": "display_data"
    },
    {
     "data": {
      "application/vnd.jupyter.widget-view+json": {
       "model_id": "0274bca89ca74e6a844b16e25fd88067",
       "version_major": 2,
       "version_minor": 0
      },
      "text/plain": [
       "Pandas Apply:   0%|          | 0/41000 [00:00<?, ?it/s]"
      ]
     },
     "metadata": {},
     "output_type": "display_data"
    }
   ],
   "source": [
    "preprocessed_dataset = preprocessor.preprocess(dataset)"
   ]
  },
  {
   "cell_type": "code",
   "execution_count": 98,
   "id": "2eaaf5ad-65f2-490e-a8e2-615b045103ea",
   "metadata": {},
   "outputs": [
    {
     "data": {
      "text/plain": [
       "{0: 'adap-org',\n",
       " 1: 'astro-ph',\n",
       " 2: 'cmp-lg',\n",
       " 3: 'cond-mat',\n",
       " 4: 'cs',\n",
       " 5: 'econ',\n",
       " 6: 'eess',\n",
       " 7: 'gr-qc',\n",
       " 8: 'hep-ex',\n",
       " 9: 'hep-lat',\n",
       " 10: 'hep-ph',\n",
       " 11: 'hep-th',\n",
       " 12: 'math',\n",
       " 13: 'nlin',\n",
       " 14: 'nucl-th',\n",
       " 15: 'physics',\n",
       " 16: 'q-bio',\n",
       " 17: 'q-fin',\n",
       " 18: 'quant-ph',\n",
       " 19: 'stat'}"
      ]
     },
     "execution_count": 98,
     "metadata": {},
     "output_type": "execute_result"
    }
   ],
   "source": [
    "dict(enumerate(preprocessor.label_encoder.classes_))"
   ]
  },
  {
   "cell_type": "code",
   "execution_count": 102,
   "id": "5a3ccf77-2f66-4902-a350-c365b2c9574f",
   "metadata": {},
   "outputs": [
    {
     "name": "stdout",
     "output_type": "stream",
     "text": [
      "new_class\n",
      "cs         34597\n",
      "stat        4782\n",
      "math         612\n",
      "physics      579\n",
      "q-bio        320\n",
      "eess          75\n",
      "q-fin         30\n",
      "econ           5\n",
      "Name: count, dtype: int64\n"
     ]
    }
   ],
   "source": [
    "df = preprocessed_dataset.copy()\n",
    "\n",
    "physics_classes = {0, 1, 2, 3, 7, 8, 9, 10, 11, 13, 14, 15, 18}\n",
    "\n",
    "class_mapping = {cls: 'physics' if cls in physics_classes else preprocessor.label_encoder.classes_[cls] \n",
    "                 for cls in range(len(preprocessor.label_encoder.classes_))}\n",
    "\n",
    "df['new_class'] = df['class_code'].map(class_mapping)\n",
    "\n",
    "print(df['new_class'].value_counts())"
   ]
  },
  {
   "cell_type": "code",
   "execution_count": 103,
   "id": "66205e50-b1d7-4c64-ab1f-b97973f17ce3",
   "metadata": {},
   "outputs": [
    {
     "data": {
      "text/html": [
       "<div>\n",
       "<style scoped>\n",
       "    .dataframe tbody tr th:only-of-type {\n",
       "        vertical-align: middle;\n",
       "    }\n",
       "\n",
       "    .dataframe tbody tr th {\n",
       "        vertical-align: top;\n",
       "    }\n",
       "\n",
       "    .dataframe thead th {\n",
       "        text-align: right;\n",
       "    }\n",
       "</style>\n",
       "<table border=\"1\" class=\"dataframe\">\n",
       "  <thead>\n",
       "    <tr style=\"text-align: right;\">\n",
       "      <th></th>\n",
       "      <th>title</th>\n",
       "      <th>text</th>\n",
       "      <th>class</th>\n",
       "      <th>class_code</th>\n",
       "      <th>new_class</th>\n",
       "    </tr>\n",
       "  </thead>\n",
       "  <tbody>\n",
       "    <tr>\n",
       "      <th>0</th>\n",
       "      <td>interpreting syntactic social element tweet re...</td>\n",
       "      <td>research social medium analysis experiencing r...</td>\n",
       "      <td>cs</td>\n",
       "      <td>4</td>\n",
       "      <td>cs</td>\n",
       "    </tr>\n",
       "    <tr>\n",
       "      <th>1</th>\n",
       "      <td>living together mind machine intelligence</td>\n",
       "      <td>paper consider nature machine intelligence cre...</td>\n",
       "      <td>cs</td>\n",
       "      <td>4</td>\n",
       "      <td>cs</td>\n",
       "    </tr>\n",
       "    <tr>\n",
       "      <th>2</th>\n",
       "      <td>stochastic local search pattern set mining</td>\n",
       "      <td>local search method quickly find good quality ...</td>\n",
       "      <td>cs</td>\n",
       "      <td>4</td>\n",
       "      <td>cs</td>\n",
       "    </tr>\n",
       "    <tr>\n",
       "      <th>3</th>\n",
       "      <td>sparse inverse covariance matrix estimation us...</td>\n",
       "      <td>l regularized gaussian maximum likelihood esti...</td>\n",
       "      <td>cs</td>\n",
       "      <td>4</td>\n",
       "      <td>cs</td>\n",
       "    </tr>\n",
       "    <tr>\n",
       "      <th>4</th>\n",
       "      <td>visual translation embedding network visual re...</td>\n",
       "      <td>visual relation person ride bike bike next car...</td>\n",
       "      <td>cs</td>\n",
       "      <td>4</td>\n",
       "      <td>cs</td>\n",
       "    </tr>\n",
       "  </tbody>\n",
       "</table>\n",
       "</div>"
      ],
      "text/plain": [
       "                                               title  \\\n",
       "0  interpreting syntactic social element tweet re...   \n",
       "1          living together mind machine intelligence   \n",
       "2         stochastic local search pattern set mining   \n",
       "3  sparse inverse covariance matrix estimation us...   \n",
       "4  visual translation embedding network visual re...   \n",
       "\n",
       "                                                text class  class_code  \\\n",
       "0  research social medium analysis experiencing r...    cs           4   \n",
       "1  paper consider nature machine intelligence cre...    cs           4   \n",
       "2  local search method quickly find good quality ...    cs           4   \n",
       "3  l regularized gaussian maximum likelihood esti...    cs           4   \n",
       "4  visual relation person ride bike bike next car...    cs           4   \n",
       "\n",
       "  new_class  \n",
       "0        cs  \n",
       "1        cs  \n",
       "2        cs  \n",
       "3        cs  \n",
       "4        cs  "
      ]
     },
     "execution_count": 103,
     "metadata": {},
     "output_type": "execute_result"
    }
   ],
   "source": [
    "df.head()"
   ]
  },
  {
   "cell_type": "code",
   "execution_count": 104,
   "id": "696e8590-14ee-44f2-8a2f-a2917fd96a2b",
   "metadata": {},
   "outputs": [
    {
     "name": "stdout",
     "output_type": "stream",
     "text": [
      "{0: 'cs', 1: 'econ', 2: 'eess', 3: 'math', 4: 'physics', 5: 'q-bio', 6: 'q-fin', 7: 'stat'}\n"
     ]
    }
   ],
   "source": [
    "new_label_encoder = LabelEncoder()\n",
    "\n",
    "df['encoded_class'] = new_label_encoder.fit_transform(df['new_class'])\n",
    "\n",
    "class_mapping = dict(enumerate(new_label_encoder.classes_))\n",
    "print(class_mapping)"
   ]
  },
  {
   "cell_type": "code",
   "execution_count": 105,
   "id": "25c4b926-0974-4ce3-a414-3dbc6cfde24c",
   "metadata": {},
   "outputs": [
    {
     "data": {
      "text/html": [
       "<div>\n",
       "<style scoped>\n",
       "    .dataframe tbody tr th:only-of-type {\n",
       "        vertical-align: middle;\n",
       "    }\n",
       "\n",
       "    .dataframe tbody tr th {\n",
       "        vertical-align: top;\n",
       "    }\n",
       "\n",
       "    .dataframe thead th {\n",
       "        text-align: right;\n",
       "    }\n",
       "</style>\n",
       "<table border=\"1\" class=\"dataframe\">\n",
       "  <thead>\n",
       "    <tr style=\"text-align: right;\">\n",
       "      <th></th>\n",
       "      <th>title</th>\n",
       "      <th>text</th>\n",
       "      <th>class</th>\n",
       "      <th>class_code</th>\n",
       "      <th>new_class</th>\n",
       "      <th>encoded_class</th>\n",
       "    </tr>\n",
       "  </thead>\n",
       "  <tbody>\n",
       "    <tr>\n",
       "      <th>0</th>\n",
       "      <td>interpreting syntactic social element tweet re...</td>\n",
       "      <td>research social medium analysis experiencing r...</td>\n",
       "      <td>cs</td>\n",
       "      <td>4</td>\n",
       "      <td>cs</td>\n",
       "      <td>0</td>\n",
       "    </tr>\n",
       "    <tr>\n",
       "      <th>1</th>\n",
       "      <td>living together mind machine intelligence</td>\n",
       "      <td>paper consider nature machine intelligence cre...</td>\n",
       "      <td>cs</td>\n",
       "      <td>4</td>\n",
       "      <td>cs</td>\n",
       "      <td>0</td>\n",
       "    </tr>\n",
       "    <tr>\n",
       "      <th>2</th>\n",
       "      <td>stochastic local search pattern set mining</td>\n",
       "      <td>local search method quickly find good quality ...</td>\n",
       "      <td>cs</td>\n",
       "      <td>4</td>\n",
       "      <td>cs</td>\n",
       "      <td>0</td>\n",
       "    </tr>\n",
       "    <tr>\n",
       "      <th>3</th>\n",
       "      <td>sparse inverse covariance matrix estimation us...</td>\n",
       "      <td>l regularized gaussian maximum likelihood esti...</td>\n",
       "      <td>cs</td>\n",
       "      <td>4</td>\n",
       "      <td>cs</td>\n",
       "      <td>0</td>\n",
       "    </tr>\n",
       "    <tr>\n",
       "      <th>4</th>\n",
       "      <td>visual translation embedding network visual re...</td>\n",
       "      <td>visual relation person ride bike bike next car...</td>\n",
       "      <td>cs</td>\n",
       "      <td>4</td>\n",
       "      <td>cs</td>\n",
       "      <td>0</td>\n",
       "    </tr>\n",
       "  </tbody>\n",
       "</table>\n",
       "</div>"
      ],
      "text/plain": [
       "                                               title  \\\n",
       "0  interpreting syntactic social element tweet re...   \n",
       "1          living together mind machine intelligence   \n",
       "2         stochastic local search pattern set mining   \n",
       "3  sparse inverse covariance matrix estimation us...   \n",
       "4  visual translation embedding network visual re...   \n",
       "\n",
       "                                                text class  class_code  \\\n",
       "0  research social medium analysis experiencing r...    cs           4   \n",
       "1  paper consider nature machine intelligence cre...    cs           4   \n",
       "2  local search method quickly find good quality ...    cs           4   \n",
       "3  l regularized gaussian maximum likelihood esti...    cs           4   \n",
       "4  visual relation person ride bike bike next car...    cs           4   \n",
       "\n",
       "  new_class  encoded_class  \n",
       "0        cs              0  \n",
       "1        cs              0  \n",
       "2        cs              0  \n",
       "3        cs              0  \n",
       "4        cs              0  "
      ]
     },
     "execution_count": 105,
     "metadata": {},
     "output_type": "execute_result"
    }
   ],
   "source": [
    "df.head()"
   ]
  },
  {
   "cell_type": "code",
   "execution_count": 106,
   "id": "f3dbd43d-f729-4a43-9b80-a6022bf0b962",
   "metadata": {},
   "outputs": [
    {
     "data": {
      "text/html": [
       "<div>\n",
       "<style scoped>\n",
       "    .dataframe tbody tr th:only-of-type {\n",
       "        vertical-align: middle;\n",
       "    }\n",
       "\n",
       "    .dataframe tbody tr th {\n",
       "        vertical-align: top;\n",
       "    }\n",
       "\n",
       "    .dataframe thead th {\n",
       "        text-align: right;\n",
       "    }\n",
       "</style>\n",
       "<table border=\"1\" class=\"dataframe\">\n",
       "  <thead>\n",
       "    <tr style=\"text-align: right;\">\n",
       "      <th></th>\n",
       "      <th>title</th>\n",
       "      <th>text</th>\n",
       "      <th>class</th>\n",
       "    </tr>\n",
       "  </thead>\n",
       "  <tbody>\n",
       "    <tr>\n",
       "      <th>0</th>\n",
       "      <td>interpreting syntactic social element tweet re...</td>\n",
       "      <td>research social medium analysis experiencing r...</td>\n",
       "      <td>0</td>\n",
       "    </tr>\n",
       "    <tr>\n",
       "      <th>1</th>\n",
       "      <td>living together mind machine intelligence</td>\n",
       "      <td>paper consider nature machine intelligence cre...</td>\n",
       "      <td>0</td>\n",
       "    </tr>\n",
       "    <tr>\n",
       "      <th>2</th>\n",
       "      <td>stochastic local search pattern set mining</td>\n",
       "      <td>local search method quickly find good quality ...</td>\n",
       "      <td>0</td>\n",
       "    </tr>\n",
       "    <tr>\n",
       "      <th>3</th>\n",
       "      <td>sparse inverse covariance matrix estimation us...</td>\n",
       "      <td>l regularized gaussian maximum likelihood esti...</td>\n",
       "      <td>0</td>\n",
       "    </tr>\n",
       "    <tr>\n",
       "      <th>4</th>\n",
       "      <td>visual translation embedding network visual re...</td>\n",
       "      <td>visual relation person ride bike bike next car...</td>\n",
       "      <td>0</td>\n",
       "    </tr>\n",
       "  </tbody>\n",
       "</table>\n",
       "</div>"
      ],
      "text/plain": [
       "                                               title  \\\n",
       "0  interpreting syntactic social element tweet re...   \n",
       "1          living together mind machine intelligence   \n",
       "2         stochastic local search pattern set mining   \n",
       "3  sparse inverse covariance matrix estimation us...   \n",
       "4  visual translation embedding network visual re...   \n",
       "\n",
       "                                                text  class  \n",
       "0  research social medium analysis experiencing r...      0  \n",
       "1  paper consider nature machine intelligence cre...      0  \n",
       "2  local search method quickly find good quality ...      0  \n",
       "3  l regularized gaussian maximum likelihood esti...      0  \n",
       "4  visual relation person ride bike bike next car...      0  "
      ]
     },
     "execution_count": 106,
     "metadata": {},
     "output_type": "execute_result"
    }
   ],
   "source": [
    "df = df.drop(columns=['class', 'class_code', 'new_class'])\n",
    "df = df.rename(columns={'encoded_class': 'class'})\n",
    "\n",
    "df.head()"
   ]
  },
  {
   "cell_type": "code",
   "execution_count": 108,
   "id": "188c3d92-a06f-4a9e-b958-af03db259325",
   "metadata": {},
   "outputs": [],
   "source": [
    "df.to_csv(\"preprocessed_data.csv\", index=False)"
   ]
  },
  {
   "cell_type": "code",
   "execution_count": null,
   "id": "052c4d1d-3479-4d95-976e-8e3d0e00a0b5",
   "metadata": {},
   "outputs": [],
   "source": []
  }
 ],
 "metadata": {
  "kernelspec": {
   "display_name": "Python 3 (ipykernel)",
   "language": "python",
   "name": "python3"
  },
  "language_info": {
   "codemirror_mode": {
    "name": "ipython",
    "version": 3
   },
   "file_extension": ".py",
   "mimetype": "text/x-python",
   "name": "python",
   "nbconvert_exporter": "python",
   "pygments_lexer": "ipython3",
   "version": "3.12.5"
  }
 },
 "nbformat": 4,
 "nbformat_minor": 5
}
